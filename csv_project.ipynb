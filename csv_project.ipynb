{
 "cells": [
  {
   "cell_type": "code",
   "execution_count": 1,
   "metadata": {
    "collapsed": true
   },
   "outputs": [],
   "source": [
    "import csv\n",
    "import numpy as np\n",
    "import pandas as pd"
   ]
  },
  {
   "cell_type": "code",
   "execution_count": 2,
   "metadata": {
    "collapsed": true
   },
   "outputs": [],
   "source": [
    "column_names = []\n",
    "column_matrix = None\n",
    "num_of_columns = 0\n",
    "column_dtype = None\n",
    "datatype = {0:\"int\",1:\"float\",2:\"object\"}"
   ]
  },
  {
   "cell_type": "code",
   "execution_count": 3,
   "metadata": {
    "collapsed": true
   },
   "outputs": [],
   "source": [
    "def csv_reader(filename,sep=','):\n",
    "    try:\n",
    "        with open(filename,'r') as csvreader:\n",
    "            csv_file = np.genfromtxt((csvreader),invalid_raise=False, dtype=None,delimiter=sep,encoding=None,skip_header=0)\n",
    "        a= iter(csv_file)\n",
    "        headers = next(a)\n",
    "        return csv_file\n",
    "    except FileNotFoundError as e:\n",
    "        print(e)\n",
    "    except TypeError as t:\n",
    "        print(t)\n",
    "    except UnboundLocalError as f:\n",
    "        print(f)\n",
    "    except Exception as e:\n",
    "        print(e)"
   ]
  },
  {
   "cell_type": "code",
   "execution_count": 4,
   "metadata": {
    "collapsed": true
   },
   "outputs": [],
   "source": [
    "# Returns data matrix\n",
    "def get_data_matrix():\n",
    "    return column_matrix"
   ]
  },
  {
   "cell_type": "code",
   "execution_count": 5,
   "metadata": {
    "collapsed": true
   },
   "outputs": [],
   "source": [
    "# All statistics functions\n",
    "def get_min(col):\n",
    "    return np.min(col)\n",
    "    \n",
    "def get_max(col):\n",
    "    pass\n",
    "\n",
    "def get_count(col):\n",
    "    return col.size\n",
    "\n",
    "def get_std(col):\n",
    "    pass\n",
    "\n",
    "def get_Q1(col):\n",
    "    pass\n",
    "\n",
    "def get_Q2(col):\n",
    "    pass\n",
    "\n",
    "def get_Q3(col):\n",
    "    pass\n",
    "\n",
    "def get_unique(col):\n",
    "    pass\n",
    "\n",
    "def get_top(col):\n",
    "    pass\n",
    "\n",
    "def outlier_percent(col):\n",
    "    pass"
   ]
  },
  {
   "cell_type": "code",
   "execution_count": 6,
   "metadata": {
    "collapsed": true
   },
   "outputs": [],
   "source": [
    "# Returns high-level statistics of categorical columns\n",
    "def get_stat_categorical(idx):\n",
    "    stat_dict = {}\n",
    "    matrix =  get_data_matrix()\n",
    "    processed_column = np.array([])\n",
    "    \n",
    "    for val in matrix[:,idx]:\n",
    "        if val != '':\n",
    "            processed_column = np.append(processed_column,(val))\n",
    "            \n",
    "    stat_dict[\"min\"] = np.NaN\n",
    "    stat_dict[\"max\"] = np.NaN\n",
    "    stat_dict[\"count\"] = get_count(processed_column)\n",
    "    stat_dict[\"std\"] = np.NaN\n",
    "    stat_dict[\"Q1\"] = np.NaN\n",
    "    stat_dict[\"Q2\"] = np.NaN\n",
    "    stat_dict[\"Q3\"] = np.NaN\n",
    "    stat_dict[\"Unique\"] = get_unique(processed_column)\n",
    "    stat_dict[\"Top\"] = get_top(processed_column)\n",
    "    stat_dict[\"Outlier Percentage\"] = np.NaN\n",
    "#     print(\"-------------------\")\n",
    "#     print(\"Processed categorical:\",stat_dict)\n",
    "    return stat_dict"
   ]
  },
  {
   "cell_type": "code",
   "execution_count": 7,
   "metadata": {
    "collapsed": true
   },
   "outputs": [],
   "source": [
    "# Returns high-level statistics of numerical columns\n",
    "def get_stat_numeric(idx):\n",
    "    stat_dict = {}\n",
    "    matrix =  get_data_matrix()\n",
    "    processed_column = np.array([])\n",
    "   \n",
    "    if column_dtype[idx] == 0:\n",
    "        # column is int type\n",
    "        for val in matrix[:,idx]:\n",
    "            if val != '':\n",
    "                processed_column = np.append(processed_column, int(val))\n",
    "#         print(\"-------------------\")\n",
    "#         print(\"Processed int:\",processed_column)\n",
    "    else:\n",
    "        \n",
    "        # column is float type\n",
    "        for val in matrix[:,idx]:\n",
    "            if val != '':\n",
    "                processed_column = np.append(processed_column, float(val))\n",
    "#         print(\"-------------------\")\n",
    "#         print(\"Processed float:\",processed_column)\n",
    "                \n",
    "    stat_dict[\"min\"] = get_min(processed_column)\n",
    "    stat_dict[\"max\"] = get_max(processed_column)\n",
    "    stat_dict[\"count\"] = get_count(processed_column)\n",
    "    stat_dict[\"std\"] = get_std(processed_column)\n",
    "    stat_dict[\"Q1\"] = get_Q1(processed_column)\n",
    "    stat_dict[\"Q2\"] = get_Q2(processed_column)\n",
    "    stat_dict[\"Q3\"] = get_Q3(processed_column)\n",
    "    stat_dict[\"Unique\"] = np.NaN\n",
    "    stat_dict[\"Top\"] = np.NaN\n",
    "    stat_dict[\"Outlier Percentage\"] = outlier_percent(processed_column)\n",
    "        \n",
    "#     print(stat_dict)\n",
    "    return stat_dict"
   ]
  },
  {
   "cell_type": "code",
   "execution_count": 8,
   "metadata": {
    "collapsed": true
   },
   "outputs": [],
   "source": [
    "# Return high-level statistics e.g. min,max,count etc\n",
    "def get_statistics():\n",
    "    stats ={}\n",
    "    # check data type for each columns\n",
    "    for idx,col_name in enumerate(column_names):\n",
    "        if column_dtype[idx] in [0,1]:\n",
    "            # We have numeric column type\n",
    "            stats[col_name] = get_stat_numeric(idx)\n",
    "        else:\n",
    "            # We have object column type\n",
    "            stats[col_name] = get_stat_categorical(idx)\n",
    "            \n",
    "#     print(\"-------------------\")\n",
    "#     print(\"final stats : \",stats)   \n",
    "    return stats"
   ]
  },
  {
   "cell_type": "code",
   "execution_count": 9,
   "metadata": {
    "collapsed": true
   },
   "outputs": [],
   "source": [
    "# Checks data types Return 0 for int, 1 for float and 2 for object\n",
    "def check_dtypes(value):\n",
    "    if not value:\n",
    "        return 0\n",
    "    try:\n",
    "        # Convert it into integer\n",
    "        val = int(value)\n",
    "        # We have integer type\n",
    "        return 0\n",
    "    except ValueError:\n",
    "        try:\n",
    "            # Convert it into float\n",
    "            val = float(value)\n",
    "            # We have float type\n",
    "            return 1\n",
    "        except ValueError:\n",
    "            # We have object type \n",
    "            return 2"
   ]
  },
  {
   "cell_type": "code",
   "execution_count": 10,
   "metadata": {
    "collapsed": true
   },
   "outputs": [],
   "source": [
    "# Calculate datatype for each columns\n",
    "def calculate_dtype():\n",
    "    for col in range(num_of_columns):\n",
    "        current_column = column_matrix[1:,col]\n",
    "        # Loop through each value of a column\n",
    "        for val in current_column:\n",
    "            datatype = check_dtypes(val)\n",
    "            column_dtype[col] = max(column_dtype[col],datatype)"
   ]
  },
  {
   "cell_type": "code",
   "execution_count": 11,
   "metadata": {},
   "outputs": [
    {
     "name": "stdout",
     "output_type": "stream",
     "text": [
      "stats: {'column1': {'min': 1.0, 'max': None, 'count': 3, 'std': None, 'Q1': None, 'Q2': None, 'Q3': None, 'Unique': nan, 'Top': nan, 'Outlier Percentage': None}, 'feature2': {'min': -1.01, 'max': None, 'count': 3, 'std': None, 'Q1': None, 'Q2': None, 'Q3': None, 'Unique': nan, 'Top': nan, 'Outlier Percentage': None}, 'feature3': {'min': nan, 'max': nan, 'count': 3, 'std': nan, 'Q1': nan, 'Q2': nan, 'Q3': nan, 'Unique': None, 'Top': None, 'Outlier Percentage': nan}, 'column4': {'min': -1.0, 'max': None, 'count': 3, 'std': None, 'Q1': None, 'Q2': None, 'Q3': None, 'Unique': nan, 'Top': nan, 'Outlier Percentage': None}}\n"
     ]
    }
   ],
   "source": [
    "if __name__ == \"__main__\":\n",
    "    file = csv_reader('data.csv')\n",
    "    # Get column names\n",
    "    column_names = file[0,:]\n",
    "    # Caculate length of columns\n",
    "    num_of_columns = len(column_names)\n",
    "    # Initialize column data types to zero\n",
    "    column_dtype = np.zeros(num_of_columns)\n",
    "    # Get data except column names\n",
    "    column_matrix = file[1:,:]             \n",
    "    \n",
    "    # Calculate data types for each columns\n",
    "    calculate_dtype()            \n",
    "    # Return high level stats of each columns\n",
    "    stats = get_statistics()\n",
    "    print(\"stats:\",stats)"
   ]
  }
 ],
 "metadata": {
  "interpreter": {
   "hash": "734bbb5c9c99cdc2e878e5e6244183c0954578259d9deecf0a29ecf5cb3f2511"
  },
  "kernelspec": {
   "display_name": "Python 3",
   "language": "python",
   "name": "python3"
  },
  "language_info": {
   "codemirror_mode": {
    "name": "ipython",
    "version": 3
   },
   "file_extension": ".py",
   "mimetype": "text/x-python",
   "name": "python",
   "nbconvert_exporter": "python",
   "pygments_lexer": "ipython3",
   "version": "3.6.3"
  }
 },
 "nbformat": 4,
 "nbformat_minor": 2
}
