{
 "cells": [
  {
   "cell_type": "code",
   "execution_count": 4,
   "source": [
    "import csv\r\n",
    "import numpy as np\r\n",
    "from io import StringIO"
   ],
   "outputs": [],
   "metadata": {}
  },
  {
   "cell_type": "code",
   "execution_count": 46,
   "source": [
    "def csv_reader(filename,sep=','):\r\n",
    "    try:\r\n",
    "        with open(filename,'r') as csvreader:\r\n",
    "            csv_file = np.genfromtxt((csvreader),invalid_raise=False, dtype=None,delimiter=sep,encoding=None,skip_header=0)\r\n",
    "        a= iter(csv_file)\r\n",
    "        headers = next(a)\r\n",
    "        return print(csv_file)\r\n",
    "    except FileNotFoundError as e:\r\n",
    "        print(e)\r\n",
    "    except TypeError as t:\r\n",
    "        print(t)\r\n",
    "    except UnboundLocalError as f:\r\n",
    "        print(f)\r\n",
    "    except Exception as e:\r\n",
    "        print(e)\r\n",
    "\r\n",
    "csv_reader('SolarSystem_Processed.csv')\r\n",
    "\r\n"
   ],
   "outputs": [
    {
     "output_type": "stream",
     "name": "stdout",
     "text": [
      "[['Celestial Body' 'Mass' 'Diameter' 'DayLength' 'SunDistance'\n",
      "  'OrbitPeriod' 'OrbitVelocity' 'MeanTemperature' 'SurfacePressure'\n",
      "  'Moons' 'Rings' 'MagneticField' 'FirstVisited' 'FirstMission' 'LogMass']\n",
      " ['Mercury' '0.33' '4879' '4222.6' '57.9' '88.0' '47.4' '167' '0.0' '0'\n",
      "  'No' 'Yes' '1974-03-29' 'Mariner 10' '-1.1086626245216111']\n",
      " ['Venus' '4.87' '12104' '2802.0' '108.2' '224.7' '35.0' '464' '92.0' '0'\n",
      "  'No' 'No' '1962-08-27' 'Mariner 2' '1.5830939370944985']\n",
      " ['Earth' '5.97' '12756' '24.0' '149.6' '365.2' '29.8' '15' '1.0' '1'\n",
      "  'No' 'Yes' '' '' '1.7867469274045107']\n",
      " ['Moon' '0.073' '3475' '708.7' '' '27.3' '1.0' '-20' '0.0' '0' 'No' 'No'\n",
      "  '1959-09-12' 'Luna 2' '-2.617295837833746']\n",
      " ['Mars' '0.642' '6792' '24.7' '227.9' '687.0' '24.1' '-65' '0.01' '2'\n",
      "  'No' 'No' '1965-07-15' 'Mariner 4' '-0.44316697529217586']\n",
      " ['Jupiter' '1898.0' '142984' '9.9' '778.6' '4331.0' '13.1' '-110' ''\n",
      "  '67' 'Yes' 'Yes' '1973-12-04' 'Pioneer 10' '7.5485559791698735']\n",
      " ['Saturn' '568.0' '120536' '10.7' '1433.5' '10747.0' '9.7' '-140' ''\n",
      "  '62' 'Yes' 'Yes' '1979-09-01' 'Pioneer 11' '6.342121418721152']\n",
      " ['Uranus' '86.8' '51118' '17.2' '2872.5' '30589.0' '6.8' '-195' '' '27'\n",
      "  'Yes' 'Yes' '1986-01-24' 'Voyager 2' '4.463606621666305']\n",
      " ['Neptune' '102.0' '49528' '16.1' '4495.1' '59800.0' '5.4' '-200' ''\n",
      "  '14' 'Yes' 'Yes' '1989-08-25' 'Voyager 2' '4.624972813284271']\n",
      " ['Pluto' '0.0146' '2370' '153.3' '5906.4' '90560.0' '4.7' '-225' '1e-05'\n",
      "  '5' 'No' '' '2015-07-14' 'New Horizons' '-4.226733750267846']]\n"
     ]
    }
   ],
   "metadata": {}
  },
  {
   "cell_type": "code",
   "execution_count": null,
   "source": [],
   "outputs": [],
   "metadata": {}
  }
 ],
 "metadata": {
  "orig_nbformat": 4,
  "language_info": {
   "name": "python",
   "version": "3.9.6",
   "mimetype": "text/x-python",
   "codemirror_mode": {
    "name": "ipython",
    "version": 3
   },
   "pygments_lexer": "ipython3",
   "nbconvert_exporter": "python",
   "file_extension": ".py"
  },
  "kernelspec": {
   "name": "python3",
   "display_name": "Python 3.9.6 64-bit"
  },
  "interpreter": {
   "hash": "734bbb5c9c99cdc2e878e5e6244183c0954578259d9deecf0a29ecf5cb3f2511"
  }
 },
 "nbformat": 4,
 "nbformat_minor": 2
}