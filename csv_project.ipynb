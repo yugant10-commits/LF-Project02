{
 "cells": [
  {
   "cell_type": "code",
   "execution_count": 112,
   "source": [
    "import csv\r\n",
    "import numpy as np\r\n",
    "import pandas as pd\r\n",
    "import matplotlib.pyplot as plt\r\n",
    "%matplotlib inline"
   ],
   "outputs": [],
   "metadata": {
    "collapsed": true
   }
  },
  {
   "cell_type": "code",
   "execution_count": 113,
   "source": [
    "column_names = []\r\n",
    "column_matrix = None\r\n",
    "num_of_columns = 0\r\n",
    "column_dtype = None\r\n",
    "datatype = {0:\"int\",1:\"float\",2:\"object\"}"
   ],
   "outputs": [],
   "metadata": {
    "collapsed": true
   }
  },
  {
   "cell_type": "code",
   "execution_count": 159,
   "source": [
    "def csv_reader(filename,sep=','):\r\n",
    "    #Exception handling for types and file not found errors.\r\n",
    "    try:\r\n",
    "        with open(filename,'r') as csvreader:\r\n",
    "            csv_file = np.genfromtxt((csvreader),invalid_raise=False, dtype=None,delimiter=sep,encoding=None,skip_header=0)\r\n",
    "        a= iter(csv_file)\r\n",
    "        headers = next(a)\r\n",
    "        return csv_file\r\n",
    "    except FileNotFoundError as e:\r\n",
    "        print(e)\r\n",
    "    except TypeError as t:\r\n",
    "        print(t)\r\n",
    "    except UnboundLocalError as f:\r\n",
    "        print(f)\r\n",
    "    except Exception as e:\r\n",
    "        print(e)"
   ],
   "outputs": [],
   "metadata": {
    "collapsed": true
   }
  },
  {
   "cell_type": "code",
   "execution_count": 115,
   "source": [
    "# Returns data matrix\n",
    "def get_data_matrix():\n",
    "    return column_matrix"
   ],
   "outputs": [],
   "metadata": {
    "collapsed": true
   }
  },
  {
   "cell_type": "code",
   "execution_count": 116,
   "source": [
    "# All statistics functions\r\n",
    "def get_min(col):\r\n",
    "    return np.min(col)\r\n",
    "    \r\n",
    "def get_max(col):\r\n",
    "    return np.max(col)\r\n",
    "\r\n",
    "def get_count(col):\r\n",
    "    return col.size\r\n",
    "\r\n",
    "def get_std(col):\r\n",
    "    return round(np.std(col))\r\n",
    "\r\n",
    "def get_Q1(col):\r\n",
    "    q1=np.quantile(col,.25)\r\n",
    "    return round(q1)\r\n",
    "    \r\n",
    "def get_Q2(col):\r\n",
    "    q2=np.quantile(col,.50)\r\n",
    "    return round(q2)\r\n",
    "\r\n",
    "def get_Q3(col):\r\n",
    "    q3=np.percentile(col,.75)\r\n",
    "    return round(q3)\r\n",
    "\r\n",
    "def get_unique(col):\r\n",
    "    return np.unique(col)[1]\r\n",
    "\r\n",
    "# Partially code copied from https://stackoverflow.com/questions/19909167/how-to-find-most-frequent-string-element-in-numpy-ndarray\r\n",
    "def get_top(col):\r\n",
    "    unique,pos = np.unique(col,return_inverse=True) #Finds all unique elements and their positions\r\n",
    "    counts = np.bincount(pos)                     #Count the number of each unique element\r\n",
    "    maxpos = counts.argmax()  \r\n",
    "    return col[maxpos]\r\n",
    "\r\n",
    "def outlier_percent(col):\r\n",
    "    #Logic is to find the upper and lower limit and check how many fall into the range and calculate the percentage of those that don't.\r\n",
    "    q1=get_Q1(col)\r\n",
    "    q3 = get_Q3(col)\r\n",
    "    in_range=[]\r\n",
    "    iqr= q3-q1\r\n",
    "    lower_limit = q1-(1.5*iqr)\r\n",
    "    upper_limit = q3+(1.5*iqr)\r\n",
    "    #Handling error for 0 division.\r\n",
    "    try:\r\n",
    "        for i in col:\r\n",
    "            if i>upper_limit:\r\n",
    "                if i<lower_limit:\r\n",
    "                    in_range.append(i)\r\n",
    "                pass\r\n",
    "        outlier_count = len(col)-len(in_range)*100\r\n",
    "        outlier_per = abs(outlier_count/len(col))\r\n",
    "        return round(outlier_per)\r\n",
    "    except ZeroDivisionError:\r\n",
    "        return print(\"No outliers\")\r\n",
    "    pass"
   ],
   "outputs": [],
   "metadata": {
    "collapsed": true
   }
  },
  {
   "cell_type": "code",
   "execution_count": 117,
   "source": [
    "# Returns high-level statistics of categorical columns\r\n",
    "def get_stat_categorical(idx):\r\n",
    "    stat_dict = {}\r\n",
    "    matrix =  get_data_matrix()\r\n",
    "    processed_column = np.array([])\r\n",
    "    \r\n",
    "    for val in matrix[:,idx]:\r\n",
    "        if val != '':\r\n",
    "            processed_column = np.append(processed_column,(val))\r\n",
    "            \r\n",
    "    stat_dict[\"min\"] = np.NaN\r\n",
    "    stat_dict[\"max\"] = np.NaN\r\n",
    "    stat_dict[\"count\"] = get_count(processed_column)\r\n",
    "    stat_dict[\"std\"] = np.NaN\r\n",
    "    stat_dict[\"Q1\"] = np.NaN\r\n",
    "    stat_dict[\"Q2\"] = np.NaN\r\n",
    "    stat_dict[\"Q3\"] = np.NaN\r\n",
    "    stat_dict[\"Unique\"] = get_unique(processed_column)\r\n",
    "    stat_dict[\"Top\"] = get_top(processed_column)\r\n",
    "    stat_dict[\"OP\"] = np.NaN\r\n",
    "#     print(\"-------------------\")\r\n",
    "#     print(\"Processed categorical:\",stat_dict)\r\n",
    "    return stat_dict"
   ],
   "outputs": [],
   "metadata": {
    "collapsed": true
   }
  },
  {
   "cell_type": "code",
   "execution_count": 118,
   "source": [
    "# Returns high-level statistics of numerical columns\r\n",
    "def get_stat_numeric(idx):\r\n",
    "    stat_dict = {}\r\n",
    "    matrix =  get_data_matrix()\r\n",
    "    processed_column = np.array([])\r\n",
    "   \r\n",
    "    if column_dtype[idx] == 0:\r\n",
    "        # column is int type\r\n",
    "        for val in matrix[:,idx]:\r\n",
    "            if val != '':\r\n",
    "                processed_column = np.append(processed_column, int(val))\r\n",
    "#         print(\"-------------------\")\r\n",
    "#         print(\"Processed int:\",processed_column)\r\n",
    "    else:\r\n",
    "        \r\n",
    "        # column is float type\r\n",
    "        for val in matrix[:,idx]:\r\n",
    "            if val != '':\r\n",
    "                processed_column = np.append(processed_column, float(val))\r\n",
    "#         print(\"-------------------\")\r\n",
    "#         print(\"Processed float:\",processed_column)\r\n",
    "                \r\n",
    "    stat_dict[\"min\"] = get_min(processed_column)\r\n",
    "    stat_dict[\"max\"] = get_max(processed_column)\r\n",
    "    stat_dict[\"count\"] = get_count(processed_column)\r\n",
    "    stat_dict[\"std\"] = get_std(processed_column)\r\n",
    "    stat_dict[\"Q1\"] = get_Q1(processed_column)\r\n",
    "    stat_dict[\"Q2\"] = get_Q2(processed_column)\r\n",
    "    stat_dict[\"Q3\"] = get_Q3(processed_column)\r\n",
    "    stat_dict[\"Unique\"] = np.NaN\r\n",
    "    stat_dict[\"Top\"] = np.NaN\r\n",
    "    stat_dict[\"OP\"] = outlier_percent(processed_column)\r\n",
    "        \r\n",
    "#     print(stat_dict)\r\n",
    "    return stat_dict"
   ],
   "outputs": [],
   "metadata": {
    "collapsed": true
   }
  },
  {
   "cell_type": "code",
   "execution_count": 119,
   "source": [
    "# Return high-level statistics e.g. min,max,count etc\r\n",
    "def get_statistics():\r\n",
    "    stats ={}\r\n",
    "    # check data type for each columns\r\n",
    "    for idx,col_name in enumerate(column_names):\r\n",
    "        if column_dtype[idx] in [0,1]:\r\n",
    "            # We have numeric column type\r\n",
    "            stats[col_name] = get_stat_numeric(idx)\r\n",
    "        else:\r\n",
    "            # We have object column type\r\n",
    "            stats[col_name] = get_stat_categorical(idx)\r\n",
    "            \r\n",
    "#     print(\"-------------------\")\r\n",
    "#     print(\"final stats : \",stats)   \r\n",
    "    return stats"
   ],
   "outputs": [],
   "metadata": {
    "collapsed": true
   }
  },
  {
   "cell_type": "code",
   "execution_count": 120,
   "source": [
    "# Checks data types Return 0 for int, 1 for float and 2 for object\r\n",
    "def check_dtypes(value):\r\n",
    "    if not value:\r\n",
    "        return 0\r\n",
    "    try:\r\n",
    "        # Convert it into integer\r\n",
    "        val = int(value)\r\n",
    "        # We have integer type\r\n",
    "        return 0\r\n",
    "    except ValueError:\r\n",
    "        try:\r\n",
    "            # Convert it into float\r\n",
    "            val = float(value)\r\n",
    "            # We have float type\r\n",
    "            return 1\r\n",
    "        except ValueError:\r\n",
    "            # We have object type \r\n",
    "            return 2"
   ],
   "outputs": [],
   "metadata": {
    "collapsed": true
   }
  },
  {
   "cell_type": "code",
   "execution_count": 121,
   "source": [
    "# Calculate datatype for each columns\r\n",
    "def calculate_dtype():\r\n",
    "    for col in range(num_of_columns):\r\n",
    "        current_column = column_matrix[1:,col]\r\n",
    "        # Loop through each value of a column\r\n",
    "        for val in current_column:\r\n",
    "            datatype = check_dtypes(val)\r\n",
    "            column_dtype[col] = max(column_dtype[col],datatype)"
   ],
   "outputs": [],
   "metadata": {
    "collapsed": true
   }
  },
  {
   "cell_type": "code",
   "execution_count": 156,
   "source": [
    "# Partial code used from https://towardsdatascience.com/simple-little-tables-with-matplotlib-9780ef5d0bc4\r\n",
    "def plot_stats(stats):\r\n",
    "    stat_names = [\"min\",\"max\",\"count\",\"std\",\"Q1\",\"Q2\",\"Q3\",\"Unique\",\"Top\",\"OP\"] \r\n",
    "    feature_names = [] \r\n",
    "    data = [] \r\n",
    "\r\n",
    "    for feature, value in stats.items():\r\n",
    "        feature_names.append(feature)\r\n",
    "        row =[]\r\n",
    "        for stat_name in stat_names:\r\n",
    "            row.append(value[stat_name])\r\n",
    "        data.append(row)\r\n",
    "\r\n",
    "#     print(\"data:\",data)\r\n",
    "    title_text = 'Statistics'\r\n",
    "\r\n",
    "    # Get some lists of color specs for row and column headers\r\n",
    "    rcolors = plt.cm.BuPu(np.full(len(feature_names), 0.1))\r\n",
    "    ccolors = plt.cm.BuPu(np.full(len(stat_names), 0.1))\r\n",
    "    # Create the figure. Setting a small pad on tight_layout\r\n",
    "    # seems to better regulate white space. Sometimes experimenting\r\n",
    "    # with an explicit figsize here can produce better outcome.\r\n",
    "    plt.figure(linewidth=4,\r\n",
    "               tight_layout={'pad':1},\r\n",
    "          )\r\n",
    "    # Add a table at the bottom of the axes\r\n",
    "    the_table = plt.table(cellText=data,\r\n",
    "                          rowLabels=feature_names,\r\n",
    "                          rowColours=rcolors,\r\n",
    "                          rowLoc='right',\r\n",
    "                          colColours=ccolors,\r\n",
    "                          colLabels=stat_names,\r\n",
    "                          loc='center')\r\n",
    "    # Scaling is the only influence we have over top and bottom cell padding.\r\n",
    "    # Make the rows taller (i.e., make cell y scale larger).\r\n",
    "    the_table.scale(4, 4.5)\r\n",
    "    # Hide axes\r\n",
    "    ax = plt.gca()\r\n",
    "    ax.get_xaxis().set_visible(False)\r\n",
    "    ax.get_yaxis().set_visible(False)\r\n",
    "    # Hide axes border\r\n",
    "    plt.box(on=None)\r\n",
    "    # Add title\r\n",
    "    plt.suptitle(title_text)"
   ],
   "outputs": [],
   "metadata": {}
  },
  {
   "cell_type": "code",
   "execution_count": 157,
   "source": [
    "if __name__ == \"__main__\":\r\n",
    "    file = csv_reader('Latest_Covid_India.csv')\r\n",
    "    # Get column names\r\n",
    "    column_names = file[0,:]\r\n",
    "    # Caculate length of columns\r\n",
    "    num_of_columns = len(column_names)\r\n",
    "    # Initialize column data types to zero\r\n",
    "    column_dtype = np.zeros(num_of_columns)\r\n",
    "    # Get data except column names\r\n",
    "    column_matrix = file[1:,:]             \r\n",
    "    \r\n",
    "    # Calculate data types for each columns\r\n",
    "    calculate_dtype()            \r\n",
    "    # Return high level stats of each columns\r\n",
    "    stats = get_statistics()\r\n",
    "#     print(\"stats:\",stats)\r\n",
    "    plot_stats(stats)"
   ],
   "outputs": [
    {
     "output_type": "stream",
     "name": "stderr",
     "text": [
      "C:\\Users\\Yugant\\AppData\\Local\\Programs\\Python\\Python39\\lib\\site-packages\\IPython\\core\\pylabtools.py:134: UserWarning: Tight layout not applied. The left and right margins cannot be made large enough to accommodate all axes decorations. \n",
      "  fig.canvas.print_figure(bytes_io, **kw)\n"
     ]
    },
    {
     "output_type": "display_data",
     "data": {
      "text/plain": [
       "<Figure size 432x288 with 1 Axes>"
      ],
      "image/png": "[encoded data removed]"
     },
     "metadata": {
      "needs_background": "light"
     }
    }
   ],
   "metadata": {}
  },
  {
   "cell_type": "code",
   "execution_count": null,
   "source": [],
   "outputs": [],
   "metadata": {}
  }
 ],
 "metadata": {
  "interpreter": {
   "hash": "734bbb5c9c99cdc2e878e5e6244183c0954578259d9deecf0a29ecf5cb3f2511"
  },
  "kernelspec": {
   "display_name": "Python 3",
   "language": "python",
   "name": "python3"
  },
  "language_info": {
   "codemirror_mode": {
    "name": "ipython",
    "version": 3
   },
   "file_extension": ".py",
   "mimetype": "text/x-python",
   "name": "python",
   "nbconvert_exporter": "python",
   "pygments_lexer": "ipython3",
   "version": "3.6.3"
  }
 },
 "nbformat": 4,
 "nbformat_minor": 2
}